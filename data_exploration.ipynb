{
 "cells": [
  {
   "cell_type": "markdown",
   "metadata": {},
   "source": [
    "## 探索 DuEE 数据集"
   ]
  },
  {
   "cell_type": "code",
   "execution_count": 6,
   "metadata": {},
   "outputs": [
    {
     "name": "stderr",
     "output_type": "stream",
     "text": [
      "C:\\Users\\kobe\\.conda\\envs\\forltp\\lib\\importlib\\_bootstrap.py:219: RuntimeWarning: numpy.ufunc size changed, may indicate binary incompatibility. Expected 192 from C header, got 216 from PyObject\n",
      "  return f(*args, **kwds)\n"
     ]
    }
   ],
   "source": [
    "import os\n",
    "import pdb\n",
    "import json\n",
    "import numpy as np\n",
    "import pandas as pd\n",
    "import matplotlib.pyplot as plt"
   ]
  },
  {
   "cell_type": "code",
   "execution_count": 3,
   "metadata": {},
   "outputs": [],
   "source": [
    "data_path = 'data/train.json'\n",
    "def date_reader():\n",
    "    with open(data_path, mode='r', encoding='utf-8') as f:\n",
    "        for i, line in enumerate(f):\n",
    "            sample = json.loads(line.strip())\n",
    "            yield sample\n"
   ]
  },
  {
   "cell_type": "code",
   "execution_count": 2,
   "metadata": {},
   "outputs": [
    {
     "name": "stdout",
     "output_type": "stream",
     "text": [
      "754 13161 11958\n",
      "0.06305402241177455 1.1006021073758154\n",
      "event avg num: 1.1636561297875898\n"
     ]
    }
   ],
   "source": [
    "data_path = 'data/train.json'\n",
    "duplicates, diversities = 0, 0\n",
    "sample_num = 0\n",
    "with open(data_path, mode='r', encoding='utf-8') as f:\n",
    "    for i, line in enumerate(f):\n",
    "        sentence = json.loads(line.strip())\n",
    "        event_list = sentence['event_list']\n",
    "        event_types = set()\n",
    "        for event in event_list:\n",
    "            event_t = event['event_type']\n",
    "            if event_t in event_types:\n",
    "                duplicates += 1\n",
    "                #pdb.set_trace()\n",
    "            else:\n",
    "                event_types.add(event_t)\n",
    "                diversities += 1\n",
    "                #pdb.set_trace()\n",
    "        sample_num += 1\n",
    "\n",
    "print(duplicates, diversities, sample_num)\n",
    "print(duplicates / sample_num, diversities / sample_num)\n",
    "print(f'event avg num: {(duplicates+diversities) / sample_num}')"
   ]
  },
  {
   "cell_type": "markdown",
   "metadata": {},
   "source": [
    "### 每个样本包含的触发词数量"
   ]
  },
  {
   "cell_type": "code",
   "execution_count": 8,
   "metadata": {},
   "outputs": [
    {
     "name": "stdout",
     "output_type": "stream",
     "text": [
      "11958 15 1 1.1636561297875898\n",
      "1558 0.13028934604448905\n"
     ]
    }
   ],
   "source": [
    "trigger_num_list = []\n",
    "\n",
    "for i, sample in enumerate(date_reader()):\n",
    "    text = sample['text']\n",
    "    event_list = sample['event_list']\n",
    "    trigger_num_list.append(len(event_list))\n",
    "\n",
    "print(len(trigger_num_list), max(trigger_num_list), min(trigger_num_list), sum(trigger_num_list)/len(trigger_num_list))\n",
    "trigger_num_array = np.array(trigger_num_list)\n",
    "more_than_one = (trigger_num_array > 1).sum()\n",
    "print(more_than_one, more_than_one/len(trigger_num_list))"
   ]
  },
  {
   "cell_type": "markdown",
   "metadata": {},
   "source": [
    "### 事件类型的共现情况"
   ]
  },
  {
   "cell_type": "code",
   "execution_count": null,
   "metadata": {},
   "outputs": [],
   "source": [
    "from utils import load_dict\n",
    "\n",
    "event_dict = load_dict('data/event_tag.dict')\n",
    "num_event_type = len(event_dict) - 1\n",
    "co_matrix = np.zeros((num_event_type, num_event_type))\n",
    "for i, sample in enumerate(date_reader()):\n",
    "    text = sample['text']\n",
    "    event_list = sample['event_list']\n",
    "    event_type_ids = []\n",
    "    for event in event_list:\n",
    "        event_t = event['event_type']\n",
    "        event_type_ids.append(event_dict.get(event_t))\n",
    "    if len(event_type_ids) < 2: continue\n",
    "    event_type_ids = list(set(event_type_ids))\n",
    "\n",
    "    for j in range(len(event_type_ids)-1):\n",
    "        event_j = event_type_ids[j]\n",
    "        for k in range(j+1, len(event_type_ids)):\n",
    "            event_k = event_type_ids[k]\n",
    "\n",
    "            if event_j <= event_k:\n",
    "                co_matrix[event_k][event_j] += 1\n",
    "            else:\n",
    "                co_matrix[event_j][event_k] += 1\n",
    "print(co_matrix)"
   ]
  },
  {
   "cell_type": "code",
   "execution_count": 26,
   "metadata": {},
   "outputs": [
    {
     "name": "stdout",
     "output_type": "stream",
     "text": [
      "竞赛行为-胜负 + 竞赛行为-晋级: 184.0\n",
      "竞赛行为-胜负 + 竞赛行为-夺冠: 109.0\n",
      "灾害/意外-车祸 + 人生-死亡: 74.0\n",
      "司法行为-入狱 + 司法行为-罚款: 45.0\n",
      "灾害/意外-袭击 + 人生-死亡: 34.0\n",
      "人生-死亡 + 人生-失联: 33.0\n",
      "竞赛行为-退赛 + 竞赛行为-胜负: 26.0\n",
      "人生-结婚 + 人生-产子/女: 25.0\n",
      "灾害/意外-坍/垮塌 + 人生-死亡: 22.0\n",
      "人生-离婚 + 人生-结婚: 20.0\n"
     ]
    }
   ],
   "source": [
    "ind = np.unravel_index(np.argsort(-co_matrix, axis=None), co_matrix.shape)\n",
    "row_indices, col_indices = ind\n",
    "idx_to_event_type = {idx: event_type for event_type, idx in event_dict.items()}\n",
    "for i, j in zip(row_indices[:10], col_indices[:10]):\n",
    "\n",
    "    print(f'{idx_to_event_type[i]} + {idx_to_event_type[j]}: {co_matrix[i][j]}')"
   ]
  },
  {
   "cell_type": "markdown",
   "metadata": {},
   "source": [
    "### 触发词字数的分布，最大值、平均值、最小值"
   ]
  },
  {
   "cell_type": "code",
   "execution_count": 35,
   "metadata": {},
   "outputs": [
    {
     "name": "stdout",
     "output_type": "stream",
     "text": [
      "13915 26 1 2.0741645706072585\n"
     ]
    },
    {
     "data": {
      "image/png": "[encoded data removed]",
      "text/plain": [
       "<Figure size 432x288 with 1 Axes>"
      ]
     },
     "metadata": {
      "needs_background": "light"
     },
     "output_type": "display_data"
    }
   ],
   "source": [
    "char_num_list = []\n",
    "for i, sample in enumerate(date_reader()):\n",
    "    text = sample['text']\n",
    "    event_list = sample['event_list']\n",
    "    for event in event_list:\n",
    "        trigger = event['trigger']\n",
    "        char_num_list.append(len(trigger))\n",
    "\n",
    "print(len(char_num_list), max(char_num_list), min(char_num_list), sum(char_num_list)/len(char_num_list))\n",
    "\n",
    "plt.hist(char_num_list, bins=[0,1,2,3,4,5,6,7,8,10,26])\n",
    "plt.show()"
   ]
  },
  {
   "cell_type": "markdown",
   "metadata": {},
   "source": [
    "### 样本字数的分布，最大值、平均值、最小值"
   ]
  },
  {
   "cell_type": "code",
   "execution_count": 33,
   "metadata": {},
   "outputs": [
    {
     "name": "stdout",
     "output_type": "stream",
     "text": [
      "11958 378 6 56.960863020572\n"
     ]
    },
    {
     "data": {
      "image/png": "[encoded data removed]",
      "text/plain": [
       "<Figure size 432x288 with 1 Axes>"
      ]
     },
     "metadata": {
      "needs_background": "light"
     },
     "output_type": "display_data"
    }
   ],
   "source": [
    "char_num_list = []\n",
    "for i, sample in enumerate(date_reader()):\n",
    "    text = sample['text']\n",
    "    \n",
    "    char_num_list.append(len(text))\n",
    "\n",
    "print(len(char_num_list), max(char_num_list), min(char_num_list), sum(char_num_list)/len(char_num_list))\n",
    "\n",
    "plt.hist(char_num_list)\n",
    "plt.show()"
   ]
  }
 ],
 "metadata": {
  "interpreter": {
   "hash": "3725f9b6c50a9b1fb43ec92b9baad151c68ab0d5bd398e882ebcf6dd7767f72c"
  },
  "kernelspec": {
   "display_name": "Python 3.6.7 64-bit ('forltp': conda)",
   "language": "python",
   "name": "python3"
  },
  "language_info": {
   "codemirror_mode": {
    "name": "ipython",
    "version": 3
   },
   "file_extension": ".py",
   "mimetype": "text/x-python",
   "name": "python",
   "nbconvert_exporter": "python",
   "pygments_lexer": "ipython3",
   "version": "3.6.7"
  },
  "orig_nbformat": 4
 },
 "nbformat": 4,
 "nbformat_minor": 2
}
